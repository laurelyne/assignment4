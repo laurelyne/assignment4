{
 "cells": [
  {
   "cell_type": "raw",
   "id": "a4c8a82d-ac10-45f1-9585-d490860eacef",
   "metadata": {},
   "source": [
    "---\n",
    "title: \"Assignment 4\"\n",
    "subtitle: \"GEOS 300, 2024\"\n",
    "  \n",
    "---"
   ]
  },
  {
   "cell_type": "code",
   "execution_count": 5,
   "id": "35afa45f-3c2b-46e6-9057-4e146df371d4",
   "metadata": {
    "lines_to_next_cell": 0
   },
   "outputs": [
    {
     "data": {
      "text/html": [
       "'GEOS 300 Assignment Submission for Laurelyne Barbier: 67493288'"
      ],
      "text/latex": [
       "'GEOS 300 Assignment Submission for Laurelyne Barbier: 67493288'"
      ],
      "text/markdown": [
       "'GEOS 300 Assignment Submission for Laurelyne Barbier: 67493288'"
      ],
      "text/plain": [
       "[1] \"GEOS 300 Assignment Submission for Laurelyne Barbier: 67493288\""
      ]
     },
     "metadata": {},
     "output_type": "display_data"
    }
   ],
   "source": [
    "# Enter your information below\n",
    "Student.Name = 'Laurelyne Barbier'\n",
    "Student.Number = 67493288\n",
    "sprintf('GEOS 300 Assignment Submission for %s: %s',Student.Name,Student.Number)"
   ]
  },
  {
   "cell_type": "code",
   "execution_count": 6,
   "id": "5f19c984-318d-416a-804d-9fbd6f67e399",
   "metadata": {
    "lines_to_next_cell": 0
   },
   "outputs": [
    {
     "name": "stderr",
     "output_type": "stream",
     "text": [
      "Updating HTML index of packages in '.Library'\n",
      "\n",
      "Making 'packages.html' ...\n",
      " done\n",
      "\n",
      "── \u001b[1mAttaching packages\u001b[22m ─────────────────────────────────────── tidyverse 1.3.2 ──\n",
      "\u001b[32m✔\u001b[39m \u001b[34mggplot2\u001b[39m 3.4.2     \u001b[32m✔\u001b[39m \u001b[34mpurrr  \u001b[39m 1.0.1\n",
      "\u001b[32m✔\u001b[39m \u001b[34mtibble \u001b[39m 3.2.1     \u001b[32m✔\u001b[39m \u001b[34mdplyr  \u001b[39m 1.1.1\n",
      "\u001b[32m✔\u001b[39m \u001b[34mtidyr  \u001b[39m 1.3.0     \u001b[32m✔\u001b[39m \u001b[34mstringr\u001b[39m 1.5.0\n",
      "\u001b[32m✔\u001b[39m \u001b[34mreadr  \u001b[39m 2.1.3     \u001b[32m✔\u001b[39m \u001b[34mforcats\u001b[39m 0.5.2\n",
      "── \u001b[1mConflicts\u001b[22m ────────────────────────────────────────── tidyverse_conflicts() ──\n",
      "\u001b[31m✖\u001b[39m \u001b[34mdplyr\u001b[39m::\u001b[32mfilter()\u001b[39m masks \u001b[34mstats\u001b[39m::filter()\n",
      "\u001b[31m✖\u001b[39m \u001b[34mdplyr\u001b[39m::\u001b[32mlag()\u001b[39m    masks \u001b[34mstats\u001b[39m::lag()\n",
      "\n",
      "Attaching package: ‘reshape2’\n",
      "\n",
      "\n",
      "The following object is masked from ‘package:tidyr’:\n",
      "\n",
      "    smiths\n",
      "\n",
      "\n",
      "------------------------------------------------------------------------------\n",
      "\n",
      "You have loaded plyr after dplyr - this is likely to cause problems.\n",
      "If you need functions from both plyr and dplyr, please load plyr first, then dplyr:\n",
      "library(plyr); library(dplyr)\n",
      "\n",
      "------------------------------------------------------------------------------\n",
      "\n",
      "\n",
      "Attaching package: ‘plyr’\n",
      "\n",
      "\n",
      "The following objects are masked from ‘package:dplyr’:\n",
      "\n",
      "    arrange, count, desc, failwith, id, mutate, rename, summarise,\n",
      "    summarize\n",
      "\n",
      "\n",
      "The following object is masked from ‘package:purrr’:\n",
      "\n",
      "    compact\n",
      "\n",
      "\n",
      "Loading required package: timechange\n",
      "\n",
      "\n",
      "Attaching package: ‘lubridate’\n",
      "\n",
      "\n",
      "The following objects are masked from ‘package:base’:\n",
      "\n",
      "    date, intersect, setdiff, union\n",
      "\n",
      "\n",
      "\n",
      "Attaching package: ‘zoo’\n",
      "\n",
      "\n",
      "The following objects are masked from ‘package:base’:\n",
      "\n",
      "    as.Date, as.Date.numeric\n",
      "\n",
      "\n"
     ]
    }
   ],
   "source": [
    "install.packages(\"latex2exp\")\n",
    "library(\"tidyverse\")\n",
    "library(\"ggplot2\")\n",
    "library(\"reshape2\")\n",
    "library(\"latex2exp\")\n",
    "library(\"patchwork\")\n",
    "library(\"tidyr\")\n",
    "library(\"knitr\")\n",
    "library(\"plyr\")\n",
    "library(\"lubridate\")\n",
    "library(\"zoo\")\n",
    "library(\"readr\")"
   ]
  },
  {
   "cell_type": "markdown",
   "id": "698c4951-d144-4811-b91f-a2783a06c343",
   "metadata": {},
   "source": [
    "## Question 1\n",
    "\n",
    "Download your data and print descriptive statistics for all columns. How do maximum and minimum air temperature at 0.4 m compare to those at 2.0 m?"
   ]
  },
  {
   "cell_type": "code",
   "execution_count": 7,
   "id": "156a9f5e-edf5-40b3-88fd-6a019dc8e395",
   "metadata": {
    "tags": []
   },
   "outputs": [
    {
     "data": {
      "text/html": [
       "<table class=\"dataframe\">\n",
       "<caption>A data.frame: 6 × 15</caption>\n",
       "<thead>\n",
       "\t<tr><th></th><th scope=col>Date.Time..PST.</th><th scope=col>T_0.4m..K.</th><th scope=col>T_2m..K.</th><th scope=col>u_0.4m..m.s.1.</th><th scope=col>u_2m..m.s.1.</th><th scope=col>Rn..W.m.2.</th><th scope=col>u.w...m2.s.2.</th><th scope=col>w.T...K.m.s.1.</th><th scope=col>w.rho_v...g.m.2.s.1.</th><th scope=col>w.rho_CO2...micromol.m.2.s.1.</th><th scope=col>w.rho_CH4...microåmol.m.2.s.1.</th><th scope=col>Pa..kPa.</th><th scope=col>PPFD..micromol.m.2.s.1.</th><th scope=col>rv</th><th scope=col>TIMESTAMP</th></tr>\n",
       "\t<tr><th></th><th scope=col>&lt;chr&gt;</th><th scope=col>&lt;dbl&gt;</th><th scope=col>&lt;dbl&gt;</th><th scope=col>&lt;dbl&gt;</th><th scope=col>&lt;dbl&gt;</th><th scope=col>&lt;dbl&gt;</th><th scope=col>&lt;dbl&gt;</th><th scope=col>&lt;dbl&gt;</th><th scope=col>&lt;dbl&gt;</th><th scope=col>&lt;dbl&gt;</th><th scope=col>&lt;dbl&gt;</th><th scope=col>&lt;dbl&gt;</th><th scope=col>&lt;dbl&gt;</th><th scope=col>&lt;dbl&gt;</th><th scope=col>&lt;dttm&gt;</th></tr>\n",
       "</thead>\n",
       "<tbody>\n",
       "\t<tr><th scope=row>1</th><td>2016-08-20 00:30:00</td><td>284.47</td><td>287.65</td><td>0.00</td><td>0.24</td><td>-20.20</td><td>-0.0128</td><td>-0.0114</td><td>-0.0016</td><td>2.0350</td><td>0.1379</td><td>101.260</td><td>101.260</td><td>0.01449635</td><td>2016-08-20 00:30:00</td></tr>\n",
       "\t<tr><th scope=row>2</th><td>2016-08-20 01:00:00</td><td>284.22</td><td>286.93</td><td>0.20</td><td>0.38</td><td>-18.13</td><td>-0.0057</td><td> 0.0060</td><td> 0.0027</td><td>2.0026</td><td>0.1353</td><td>101.255</td><td>101.255</td><td>0.01379902</td><td>2016-08-20 01:00:00</td></tr>\n",
       "\t<tr><th scope=row>3</th><td>2016-08-20 01:30:00</td><td>283.30</td><td>285.94</td><td>0.07</td><td>0.25</td><td>-16.09</td><td>-0.0048</td><td> 0.0029</td><td> 0.0022</td><td>1.9728</td><td>0.1329</td><td>101.250</td><td>101.250</td><td>0.01309974</td><td>2016-08-20 01:30:00</td></tr>\n",
       "\t<tr><th scope=row>4</th><td>2016-08-20 02:00:00</td><td>283.04</td><td>285.35</td><td>0.28</td><td>0.43</td><td>-15.31</td><td>-0.0040</td><td> 0.0047</td><td> 0.0024</td><td>1.9337</td><td>0.1298</td><td>101.255</td><td>101.255</td><td>0.01266678</td><td>2016-08-20 02:00:00</td></tr>\n",
       "\t<tr><th scope=row>5</th><td>2016-08-20 02:30:00</td><td>282.56</td><td>284.64</td><td>0.00</td><td>0.11</td><td>-13.29</td><td>-0.0011</td><td>-0.0021</td><td> 0.0006</td><td>1.8984</td><td>0.1271</td><td>101.260</td><td>101.260</td><td>0.01209807</td><td>2016-08-20 02:30:00</td></tr>\n",
       "\t<tr><th scope=row>6</th><td>2016-08-20 03:00:00</td><td>282.17</td><td>284.38</td><td>0.00</td><td>0.24</td><td>-13.87</td><td>-0.0186</td><td> 0.0060</td><td> 0.0018</td><td>1.8647</td><td>0.1246</td><td>101.255</td><td>101.255</td><td>0.01192066</td><td>2016-08-20 03:00:00</td></tr>\n",
       "</tbody>\n",
       "</table>\n"
      ],
      "text/latex": [
       "A data.frame: 6 × 15\n",
       "\\begin{tabular}{r|lllllllllllllll}\n",
       "  & Date.Time..PST. & T\\_0.4m..K. & T\\_2m..K. & u\\_0.4m..m.s.1. & u\\_2m..m.s.1. & Rn..W.m.2. & u.w...m2.s.2. & w.T...K.m.s.1. & w.rho\\_v...g.m.2.s.1. & w.rho\\_CO2...micromol.m.2.s.1. & w.rho\\_CH4...microåmol.m.2.s.1. & Pa..kPa. & PPFD..micromol.m.2.s.1. & rv & TIMESTAMP\\\\\n",
       "  & <chr> & <dbl> & <dbl> & <dbl> & <dbl> & <dbl> & <dbl> & <dbl> & <dbl> & <dbl> & <dbl> & <dbl> & <dbl> & <dbl> & <dttm>\\\\\n",
       "\\hline\n",
       "\t1 & 2016-08-20 00:30:00 & 284.47 & 287.65 & 0.00 & 0.24 & -20.20 & -0.0128 & -0.0114 & -0.0016 & 2.0350 & 0.1379 & 101.260 & 101.260 & 0.01449635 & 2016-08-20 00:30:00\\\\\n",
       "\t2 & 2016-08-20 01:00:00 & 284.22 & 286.93 & 0.20 & 0.38 & -18.13 & -0.0057 &  0.0060 &  0.0027 & 2.0026 & 0.1353 & 101.255 & 101.255 & 0.01379902 & 2016-08-20 01:00:00\\\\\n",
       "\t3 & 2016-08-20 01:30:00 & 283.30 & 285.94 & 0.07 & 0.25 & -16.09 & -0.0048 &  0.0029 &  0.0022 & 1.9728 & 0.1329 & 101.250 & 101.250 & 0.01309974 & 2016-08-20 01:30:00\\\\\n",
       "\t4 & 2016-08-20 02:00:00 & 283.04 & 285.35 & 0.28 & 0.43 & -15.31 & -0.0040 &  0.0047 &  0.0024 & 1.9337 & 0.1298 & 101.255 & 101.255 & 0.01266678 & 2016-08-20 02:00:00\\\\\n",
       "\t5 & 2016-08-20 02:30:00 & 282.56 & 284.64 & 0.00 & 0.11 & -13.29 & -0.0011 & -0.0021 &  0.0006 & 1.8984 & 0.1271 & 101.260 & 101.260 & 0.01209807 & 2016-08-20 02:30:00\\\\\n",
       "\t6 & 2016-08-20 03:00:00 & 282.17 & 284.38 & 0.00 & 0.24 & -13.87 & -0.0186 &  0.0060 &  0.0018 & 1.8647 & 0.1246 & 101.255 & 101.255 & 0.01192066 & 2016-08-20 03:00:00\\\\\n",
       "\\end{tabular}\n"
      ],
      "text/markdown": [
       "\n",
       "A data.frame: 6 × 15\n",
       "\n",
       "| <!--/--> | Date.Time..PST. &lt;chr&gt; | T_0.4m..K. &lt;dbl&gt; | T_2m..K. &lt;dbl&gt; | u_0.4m..m.s.1. &lt;dbl&gt; | u_2m..m.s.1. &lt;dbl&gt; | Rn..W.m.2. &lt;dbl&gt; | u.w...m2.s.2. &lt;dbl&gt; | w.T...K.m.s.1. &lt;dbl&gt; | w.rho_v...g.m.2.s.1. &lt;dbl&gt; | w.rho_CO2...micromol.m.2.s.1. &lt;dbl&gt; | w.rho_CH4...microåmol.m.2.s.1. &lt;dbl&gt; | Pa..kPa. &lt;dbl&gt; | PPFD..micromol.m.2.s.1. &lt;dbl&gt; | rv &lt;dbl&gt; | TIMESTAMP &lt;dttm&gt; |\n",
       "|---|---|---|---|---|---|---|---|---|---|---|---|---|---|---|---|\n",
       "| 1 | 2016-08-20 00:30:00 | 284.47 | 287.65 | 0.00 | 0.24 | -20.20 | -0.0128 | -0.0114 | -0.0016 | 2.0350 | 0.1379 | 101.260 | 101.260 | 0.01449635 | 2016-08-20 00:30:00 |\n",
       "| 2 | 2016-08-20 01:00:00 | 284.22 | 286.93 | 0.20 | 0.38 | -18.13 | -0.0057 |  0.0060 |  0.0027 | 2.0026 | 0.1353 | 101.255 | 101.255 | 0.01379902 | 2016-08-20 01:00:00 |\n",
       "| 3 | 2016-08-20 01:30:00 | 283.30 | 285.94 | 0.07 | 0.25 | -16.09 | -0.0048 |  0.0029 |  0.0022 | 1.9728 | 0.1329 | 101.250 | 101.250 | 0.01309974 | 2016-08-20 01:30:00 |\n",
       "| 4 | 2016-08-20 02:00:00 | 283.04 | 285.35 | 0.28 | 0.43 | -15.31 | -0.0040 |  0.0047 |  0.0024 | 1.9337 | 0.1298 | 101.255 | 101.255 | 0.01266678 | 2016-08-20 02:00:00 |\n",
       "| 5 | 2016-08-20 02:30:00 | 282.56 | 284.64 | 0.00 | 0.11 | -13.29 | -0.0011 | -0.0021 |  0.0006 | 1.8984 | 0.1271 | 101.260 | 101.260 | 0.01209807 | 2016-08-20 02:30:00 |\n",
       "| 6 | 2016-08-20 03:00:00 | 282.17 | 284.38 | 0.00 | 0.24 | -13.87 | -0.0186 |  0.0060 |  0.0018 | 1.8647 | 0.1246 | 101.255 | 101.255 | 0.01192066 | 2016-08-20 03:00:00 |\n",
       "\n"
      ],
      "text/plain": [
       "  Date.Time..PST.     T_0.4m..K. T_2m..K. u_0.4m..m.s.1. u_2m..m.s.1.\n",
       "1 2016-08-20 00:30:00 284.47     287.65   0.00           0.24        \n",
       "2 2016-08-20 01:00:00 284.22     286.93   0.20           0.38        \n",
       "3 2016-08-20 01:30:00 283.30     285.94   0.07           0.25        \n",
       "4 2016-08-20 02:00:00 283.04     285.35   0.28           0.43        \n",
       "5 2016-08-20 02:30:00 282.56     284.64   0.00           0.11        \n",
       "6 2016-08-20 03:00:00 282.17     284.38   0.00           0.24        \n",
       "  Rn..W.m.2. u.w...m2.s.2. w.T...K.m.s.1. w.rho_v...g.m.2.s.1.\n",
       "1 -20.20     -0.0128       -0.0114        -0.0016             \n",
       "2 -18.13     -0.0057        0.0060         0.0027             \n",
       "3 -16.09     -0.0048        0.0029         0.0022             \n",
       "4 -15.31     -0.0040        0.0047         0.0024             \n",
       "5 -13.29     -0.0011       -0.0021         0.0006             \n",
       "6 -13.87     -0.0186        0.0060         0.0018             \n",
       "  w.rho_CO2...micromol.m.2.s.1. w.rho_CH4...microåmol.m.2.s.1. Pa..kPa.\n",
       "1 2.0350                        0.1379                         101.260 \n",
       "2 2.0026                        0.1353                         101.255 \n",
       "3 1.9728                        0.1329                         101.250 \n",
       "4 1.9337                        0.1298                         101.255 \n",
       "5 1.8984                        0.1271                         101.260 \n",
       "6 1.8647                        0.1246                         101.255 \n",
       "  PPFD..micromol.m.2.s.1. rv         TIMESTAMP          \n",
       "1 101.260                 0.01449635 2016-08-20 00:30:00\n",
       "2 101.255                 0.01379902 2016-08-20 01:00:00\n",
       "3 101.250                 0.01309974 2016-08-20 01:30:00\n",
       "4 101.255                 0.01266678 2016-08-20 02:00:00\n",
       "5 101.260                 0.01209807 2016-08-20 02:30:00\n",
       "6 101.255                 0.01192066 2016-08-20 03:00:00"
      ]
     },
     "metadata": {},
     "output_type": "display_data"
    },
    {
     "data": {
      "text/plain": [
       "   T_0.4m..K.       T_2m..K.     u_0.4m..m.s.1.    u_2m..m.s.1.   \n",
       " Min.   :282.0   Min.   :284.0   Min.   :0.0000   Min.   :0.0600  \n",
       " 1st Qu.:285.6   1st Qu.:287.5   1st Qu.:0.1250   1st Qu.:0.2725  \n",
       " Median :294.6   Median :294.0   Median :0.4800   Median :1.1800  \n",
       " Mean   :293.6   Mean   :293.2   Mean   :0.6992   Mean   :1.1579  \n",
       " 3rd Qu.:301.0   3rd Qu.:299.0   3rd Qu.:1.2825   3rd Qu.:1.9975  \n",
       " Max.   :305.4   Max.   :301.4   Max.   :1.5400   Max.   :2.5000  \n",
       "   Rn..W.m.2.     u.w...m2.s.2.       w.T...K.m.s.1.      w.rho_v...g.m.2.s.1.\n",
       " Min.   :-63.13   Min.   :-0.091700   Min.   :-0.013400   Min.   :-0.003000   \n",
       " 1st Qu.:-20.36   1st Qu.:-0.055475   1st Qu.:-0.000925   1st Qu.: 0.000675   \n",
       " Median : 22.89   Median :-0.017000   Median : 0.010800   Median : 0.009750   \n",
       " Mean   :171.29   Mean   :-0.031598   Mean   : 0.052331   Mean   : 0.025848   \n",
       " 3rd Qu.:404.40   3rd Qu.:-0.004675   3rd Qu.: 0.130525   3rd Qu.: 0.051800   \n",
       " Max.   :590.67   Max.   :-0.000600   Max.   : 0.176900   Max.   : 0.097500   \n",
       " w.rho_CO2...micromol.m.2.s.1. w.rho_CH4...microåmol.m.2.s.1.    Pa..kPa.    \n",
       " Min.   :-4.9865               Min.   :0.0166                 Min.   :100.8  \n",
       " 1st Qu.:-0.8255               1st Qu.:0.1223                 1st Qu.:100.9  \n",
       " Median : 0.7250               Median :0.1452                 Median :101.2  \n",
       " Mean   : 0.3030               Mean   :0.1635                 Mean   :101.1  \n",
       " 3rd Qu.: 1.8731               3rd Qu.:0.2006                 3rd Qu.:101.3  \n",
       " Max.   : 2.3244               Max.   :0.2932                 Max.   :101.3  \n",
       " PPFD..micromol.m.2.s.1.       rv          \n",
       " Min.   :100.8           Min.   :0.007484  \n",
       " 1st Qu.:100.9           1st Qu.:0.014115  \n",
       " Median :101.2           Median :0.015126  \n",
       " Mean   :101.1           Mean   :0.014572  \n",
       " 3rd Qu.:101.3           3rd Qu.:0.015601  \n",
       " Max.   :101.3           Max.   :0.016588  "
      ]
     },
     "metadata": {},
     "output_type": "display_data"
    }
   ],
   "source": [
    "data_url='https://raw.githubusercontent.com/GEOS300/AssignmentData/main/CA_DBB_DailyData/20160820.txt'\n",
    "df <- read.csv(file = data_url,na.strings=\"-9999\")\n",
    "\n",
    "df$TIMESTAMP <- as.POSIXct(df$Date.Time..PST.,format = \"%Y-%m-%d %H:%M:%S\")\n",
    "\n",
    "head(df)\n",
    "summary(subset(df,select = -c(TIMESTAMP, Date.Time..PST.)))"
   ]
  },
  {
   "cell_type": "markdown",
   "id": "22e76aef-1935-4059-a4d4-9bc41cc1ae22",
   "metadata": {},
   "source": [
    "At 0.4m, the minimum temperature is 282.0 K while the maximum temperature is 305.4 K. The minimum and maximum temperatures at 2m are 284.0 K and 301.4 K respectively. The minimum temperature is thus lower while the maximum temperature is higher at 0.4m. The air at 2m experiences a narrower range of temperatures than the air at 0.4m, by a few degrees."
   ]
  },
  {
   "cell_type": "markdown",
   "id": "87711689-cd4c-4b5c-83f4-082ae2100c9c",
   "metadata": {},
   "source": [
    "## Question 2\n",
    "\n",
    "Convert the air temperature values at 0.4 m and 2.0 m to potential temperature. Recalculate the descriptive statistics for the potential temperatures at 0.4 and 2m; how does this adjustment impact the values?"
   ]
  },
  {
   "cell_type": "code",
   "execution_count": 20,
   "id": "cec352b5-d102-467d-96fe-f4da1c72f8d7",
   "metadata": {
    "tags": []
   },
   "outputs": [
    {
     "data": {
      "text/plain": [
       "   T_0.4m..K.       T_2m..K.        theta0.4         theta2     \n",
       " Min.   :282.0   Min.   :284.0   Min.   :282.0   Min.   :284.0  \n",
       " 1st Qu.:285.6   1st Qu.:287.5   1st Qu.:285.5   1st Qu.:287.4  \n",
       " Median :294.6   Median :294.0   Median :294.6   Median :294.0  \n",
       " Mean   :293.6   Mean   :293.2   Mean   :293.6   Mean   :293.1  \n",
       " 3rd Qu.:301.0   3rd Qu.:299.0   3rd Qu.:301.0   3rd Qu.:299.0  \n",
       " Max.   :305.4   Max.   :301.4   Max.   :305.4   Max.   :301.4  "
      ]
     },
     "metadata": {},
     "output_type": "display_data"
    }
   ],
   "source": [
    "DALR <- -0.01 #Km^-1\n",
    "z0.4 <- 0.4 #m\n",
    "z2 <- 2 #m\n",
    "\n",
    "df2 <- select(df, T_0.4m..K., T_2m..K.) |>\n",
    "    mutate(theta0.4 = (T_0.4m..K. + DALR*z0.4), theta2 = (T_2m..K. + DALR*z2))\n",
    "\n",
    "summary(df2)"
   ]
  },
  {
   "cell_type": "code",
   "execution_count": null,
   "id": "22976395-af46-4bcd-87ac-2aa8721f5bca",
   "metadata": {},
   "outputs": [],
   "source": [
    "The adjustment "
   ]
  },
  {
   "cell_type": "markdown",
   "id": "0e0d976e-4800-449a-a51f-47f8ae550039",
   "metadata": {},
   "source": [
    "## Question 3"
   ]
  }
 ],
 "metadata": {
  "kernelspec": {
   "display_name": "R",
   "language": "R",
   "name": "ir"
  },
  "language_info": {
   "codemirror_mode": "r",
   "file_extension": ".r",
   "mimetype": "text/x-r-source",
   "name": "R",
   "pygments_lexer": "r",
   "version": "4.2.2"
  }
 },
 "nbformat": 4,
 "nbformat_minor": 5
}
